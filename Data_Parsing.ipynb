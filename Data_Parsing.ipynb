{
 "cells": [
  {
   "cell_type": "code",
   "execution_count": 34,
   "metadata": {},
   "outputs": [],
   "source": [
    "import re\n",
    "import mysql.connector\n",
    "import numpy as np\n",
    "import xml.etree.ElementTree as ET"
   ]
  },
  {
   "cell_type": "code",
   "execution_count": 54,
   "metadata": {},
   "outputs": [],
   "source": [
    "mydb = mysql.connector.connect(\n",
    "    host='127.0.0.1', \n",
    "    user='Yuxin Xiao', \n",
    "    password='19961002XYX',\n",
    "    database='CS510Project')\n",
    "mycursor = mydb.cursor()"
   ]
  },
  {
   "cell_type": "code",
   "execution_count": null,
   "metadata": {},
   "outputs": [],
   "source": [
    "mycursor.execute(\"ALTER TABLE Sentences ADD COLUMN Id INT AUTO_INCREMENT PRIMARY KEY FIRST\")"
   ]
  },
  {
   "cell_type": "code",
   "execution_count": null,
   "metadata": {},
   "outputs": [],
   "source": [
    "mycursor.execute(\"CREATE TABLE Sentences (QA_id INT, Subject_id INT, Sentence_id INT, Sentences TEXT)\")\n",
    "mycursor.execute(\"CREATE TABLE Tags (QA_id INT, Category VARCHAR(255), Main_category VARCHAR(255), Subcategory VARCHAR(255))\")\n",
    "mycursor.execute(\"CREATE TABLE Words (Word VARCHAR(255), Count INT, Inverted_index LONGTEXT)\")"
   ]
  },
  {
   "cell_type": "code",
   "execution_count": null,
   "metadata": {},
   "outputs": [],
   "source": [
    "tree = ET.parse('data/manner.xml')\n",
    "root = tree.getroot()"
   ]
  },
  {
   "cell_type": "code",
   "execution_count": null,
   "metadata": {},
   "outputs": [],
   "source": [
    "regex = r\"(?<!\\w\\.\\w.)(?<![A-Z][a-z]\\.)(?<=\\.|\\?)\\s\"\n",
    "subst = \"\\\\n\""
   ]
  },
  {
   "cell_type": "code",
   "execution_count": null,
   "metadata": {},
   "outputs": [],
   "source": [
    "def insert_sentences(QA_id, QA_pair):\n",
    "    sql = ('INSERT INTO Sentences '\n",
    "           '(QA_id, Subject_id, Sentence_id, Sentences) '\n",
    "           'VALUES (%s, %s, %s, %s)')\n",
    "    \n",
    "    question = QA_pair[0].findall('subject')[0].text\n",
    "    question = re.sub(regex, subst, question, 0, re.MULTILINE).split('\\n')\n",
    "    question = [sentence.lstrip().replace('<br />', '') for sentence in question]\n",
    "    question = list(filter(None, question))\n",
    "    for sentence_id, sentence in enumerate(question):\n",
    "        val = (QA_id+1, 0, sentence_id+1, sentence)\n",
    "        mycursor.execute(sql, val)\n",
    "    \n",
    "    \n",
    "    answers = QA_pair[0].findall('nbestanswers')[0]\n",
    "    for answer_id, answer in enumerate(answers):\n",
    "        answer = re.sub(regex, subst, answer.text, 0, re.MULTILINE).split('\\n')\n",
    "        answer = [sentence.lstrip().replace('<br />', '') for sentence in answer]\n",
    "        answer = list(filter(None, answer))\n",
    "        \n",
    "        for sentence_id, sentence in enumerate(answer):\n",
    "            val = (QA_id+1, answer_id+1, sentence_id+1, sentence)\n",
    "            mycursor.execute(sql, val)"
   ]
  },
  {
   "cell_type": "code",
   "execution_count": null,
   "metadata": {},
   "outputs": [],
   "source": [
    "def insert_tag(QA_id, QA_pair):\n",
    "    def extract_tags(category_name):\n",
    "        tags = QA_pair[0].findall(category_name)\n",
    "        if not tags:\n",
    "            return None\n",
    "        tags = tags[0].text\n",
    "        tags = re.sub(regex, subst, tags, 0, re.MULTILINE).split('&')\n",
    "        tags = [tag.lstrip().rstrip() for tag in tags]\n",
    "        tags = ', '.join(tags)\n",
    "        return tags\n",
    "    cat = extract_tags('cat')\n",
    "    maincat = extract_tags('maincat')\n",
    "    subcat = extract_tags('subcat')\n",
    "    sql = ('INSERT INTO Tags '\n",
    "           '(QA_id, Category, Main_category, Subcategory) '\n",
    "           'VALUES (%s, %s, %s, %s)')\n",
    "    val = (QA_id+1, cat, maincat, subcat)\n",
    "    mycursor.execute(sql, val)"
   ]
  },
  {
   "cell_type": "code",
   "execution_count": null,
   "metadata": {},
   "outputs": [],
   "source": [
    "for QA_id, QA_pair in enumerate(root):\n",
    "    insert_sentences(QA_id, QA_pair)\n",
    "    insert_tag(QA_id, QA_pair)\n",
    "    if QA_id % 5000 == 0:\n",
    "        print(QA_id)"
   ]
  },
  {
   "cell_type": "code",
   "execution_count": null,
   "metadata": {},
   "outputs": [],
   "source": [
    "mydb.commit()"
   ]
  },
  {
   "cell_type": "code",
   "execution_count": null,
   "metadata": {},
   "outputs": [],
   "source": [
    "mycursor.execute(\"SELECT Sentences FROM Sentences\")\n",
    "myresult = mycursor.fetchall()\n",
    "with open('All Sentences.txt','w') as file:\n",
    "    for sentence in myresult:\n",
    "        sentence = str(sentence).encode('utf-8','ignored')\n",
    "        file.write(\"%s\\n\" % sentence)"
   ]
  },
  {
   "cell_type": "code",
   "execution_count": null,
   "metadata": {},
   "outputs": [],
   "source": []
  },
  {
   "cell_type": "code",
   "execution_count": 3,
   "metadata": {},
   "outputs": [],
   "source": [
    "mycursor.execute(\"SELECT * FROM Sentences\")\n",
    "myresult = mycursor.fetchall()"
   ]
  },
  {
   "cell_type": "code",
   "execution_count": null,
   "metadata": {},
   "outputs": [],
   "source": []
  },
  {
   "cell_type": "code",
   "execution_count": 43,
   "metadata": {},
   "outputs": [],
   "source": [
    "mycursor.execute(\"DROP TABLE Words\")\n",
    "mycursor.execute(\"CREATE TABLE Words (Word TEXT, Count INT, Inverted_index LONGTEXT)\")"
   ]
  },
  {
   "cell_type": "code",
   "execution_count": 5,
   "metadata": {},
   "outputs": [
    {
     "data": {
      "text/plain": [
       "100000"
      ]
     },
     "execution_count": 5,
     "metadata": {},
     "output_type": "execute_result"
    }
   ],
   "source": [
    "myresult = myresult[:100000]\n",
    "len(myresult)"
   ]
  },
  {
   "cell_type": "code",
   "execution_count": 6,
   "metadata": {},
   "outputs": [
    {
     "data": {
      "text/plain": [
       "(1, 1, 0, 1, 'How to handle a 1.5 year old when hitting?')"
      ]
     },
     "execution_count": 6,
     "metadata": {},
     "output_type": "execute_result"
    }
   ],
   "source": [
    "myresult[0]"
   ]
  },
  {
   "cell_type": "code",
   "execution_count": 7,
   "metadata": {},
   "outputs": [
    {
     "name": "stdout",
     "output_type": "stream",
     "text": [
      "Creating Dictionary\n",
      "100000\n",
      "20000\n",
      "40000\n",
      "60000\n",
      "80000\n",
      "100000\n"
     ]
    }
   ],
   "source": [
    "print(\"Creating Dictionary\")\n",
    "print(len(myresult))\n",
    "   \n",
    "count_dict = {}\n",
    "index_dict = {}\n",
    "\n",
    "num = 0\n",
    "for row in myresult:\n",
    "    \n",
    "    num += 1\n",
    "    if num % 20000 == 0:\n",
    "        print(num)\n",
    "    \n",
    "    index = str(row[0])\n",
    "    sentence = re.sub(r'[^\\w\\s]', \"\", row[4]).split()\n",
    "        \n",
    "    for word in sentence:\n",
    "        if word.isdigit():\n",
    "            continue\n",
    "        word = word.lower()\n",
    "        \n",
    "        if word in count_dict:\n",
    "            count_dict[word] += 1\n",
    "            index_dict[word] += (' ' + index)\n",
    "        else:\n",
    "            count_dict[word] = 1\n",
    "            index_dict[word] = index"
   ]
  },
  {
   "cell_type": "code",
   "execution_count": 33,
   "metadata": {},
   "outputs": [],
   "source": [
    "count_keys, count_values = list(count_dict.keys()), list(count_dict.values())\n",
    "index_keys, index_values = list(index_dict.keys()), list(index_dict.values())"
   ]
  },
  {
   "cell_type": "code",
   "execution_count": 35,
   "metadata": {},
   "outputs": [],
   "source": [
    "index_len = [len(index_value) for index_value in index_values]"
   ]
  },
  {
   "cell_type": "code",
   "execution_count": 47,
   "metadata": {},
   "outputs": [],
   "source": [
    "key_len = [len(index_key) for index_key in index_keys]"
   ]
  },
  {
   "cell_type": "code",
   "execution_count": null,
   "metadata": {},
   "outputs": [],
   "source": []
  },
  {
   "cell_type": "code",
   "execution_count": 44,
   "metadata": {},
   "outputs": [
    {
     "name": "stdout",
     "output_type": "stream",
     "text": [
      "Writing into Database\n",
      "48248\n",
      "5000\n",
      "10000\n",
      "15000\n",
      "20000\n",
      "25000\n",
      "30000\n",
      "35000\n",
      "40000\n",
      "45000\n"
     ]
    }
   ],
   "source": [
    "print(\"Writing into Database\")\n",
    "print(len(count_dict.keys()))\n",
    "\n",
    "num = 0\n",
    "for word in count_dict.keys():\n",
    "    \n",
    "    num += 1\n",
    "    if num % 5000 == 0:\n",
    "        print(num)\n",
    "    \n",
    "    count = count_dict[word]\n",
    "    index = index_dict[word]\n",
    "\n",
    "    insert_sql = \"INSERT INTO Words (Word, Count, Inverted_index) VALUES (%s, %s, %s)\"\n",
    "    insert_val = (word, count, index)\n",
    "    mycursor.execute(insert_sql, insert_val)"
   ]
  },
  {
   "cell_type": "code",
   "execution_count": null,
   "metadata": {},
   "outputs": [],
   "source": []
  },
  {
   "cell_type": "code",
   "execution_count": null,
   "metadata": {},
   "outputs": [],
   "source": [
    "batch_size = 50000\n",
    "sentences_count = len(myresult)\n",
    "epoch_count = int(sentences_count / batch_size + 1)\n",
    "print(epoch_count)\n",
    "\n",
    "for epoch in range(epoch_count):\n",
    "    \n",
    "    print(epoch)\n",
    "    \n",
    "    count_dict = {}\n",
    "    index_dict = {}\n",
    "    \n",
    "    for row in myresult[:(epoch+1)*batch_size]:\n",
    "        QA_id, subject_id, sentence_id = row[0], row[1], row[2]\n",
    "        sentence = re.sub(r'[^\\w\\s]', \"\", row[3]).split()\n",
    "        index = \"%d-%d-%d\" % (QA_id, subject_id, sentence_id)\n",
    "        \n",
    "        for word in sentence:\n",
    "            if word.isdigit():\n",
    "                continue\n",
    "            word = word.lower()\n",
    "            \n",
    "            if word in count_dict:\n",
    "                count_dict[word] += 1\n",
    "                index_dict[word] += (', ' + index)\n",
    "            else:\n",
    "                count_dict[word] = 1\n",
    "                index_dict[word] = index\n",
    "        \n",
    "    for word in count_dict.keys():\n",
    "        count = count_dict[word]\n",
    "        index = index_dict[word]\n",
    "        \n",
    "        select_sql = \"SELECT * FROM Words WHERE Word = %s\"        \n",
    "        mycursor.execute(select_sql, (word,))\n",
    "        corr_row = mycursor.fetchall()\n",
    "        \n",
    "        if not corr_row:\n",
    "            insert_sql = \"INSERT INTO Words (Word, Count, Inverted_index) VALUES (%s, %s, %s)\"\n",
    "            insert_val = (word, count, index)\n",
    "            mycursor.execute(insert_sql, insert_val)\n",
    "        else:\n",
    "            update_count = corr_row[0][1] + count\n",
    "            update_index = corr_row[0][2] + \", \" + index\n",
    "            update_sql = \"UPDATE Words SET Count = %s, Inverted_index = %s WHERE Word = %s\"\n",
    "            update_val = (update_count, update_index, word)\n",
    "            mycursor.execute(update_sql, update_val)"
   ]
  },
  {
   "cell_type": "code",
   "execution_count": 57,
   "metadata": {},
   "outputs": [],
   "source": [
    "mycursor.execute(\"SELECT * FROM Words\")\n",
    "test = mycursor.fetchall()"
   ]
  },
  {
   "cell_type": "code",
   "execution_count": 60,
   "metadata": {},
   "outputs": [
    {
     "data": {
      "text/plain": [
       "('warn', 3, '11 78200 94784')"
      ]
     },
     "execution_count": 60,
     "metadata": {},
     "output_type": "execute_result"
    }
   ],
   "source": [
    "test[100]"
   ]
  },
  {
   "cell_type": "code",
   "execution_count": 45,
   "metadata": {},
   "outputs": [],
   "source": [
    "mydb.commit()"
   ]
  },
  {
   "cell_type": "code",
   "execution_count": 46,
   "metadata": {},
   "outputs": [],
   "source": [
    "mycursor.close()\n",
    "mydb.close()"
   ]
  },
  {
   "cell_type": "code",
   "execution_count": null,
   "metadata": {},
   "outputs": [],
   "source": []
  },
  {
   "cell_type": "code",
   "execution_count": null,
   "metadata": {},
   "outputs": [],
   "source": [
    "mycursor.execute(\"DROP TABLE Sentences\")\n",
    "mycursor.execute(\"DROP TABLE Tags\")\n",
    "mycursor.execute(\"DROP TABLE Words\")"
   ]
  },
  {
   "cell_type": "code",
   "execution_count": null,
   "metadata": {},
   "outputs": [],
   "source": [
    "nonletters = '^[^a-zA-z]*|[^a-zA-Z]*$'\n",
    "with open('All Sentences.txt', 'r') as file:\n",
    "    sentences = file.read().split('\\nb')\n",
    "    sentences[0] = sentences[0][2:]\n",
    "    sentences = [re.sub(nonletters, '', sentence[:-2].replace('\\\\','')) for sentence in sentences]"
   ]
  }
 ],
 "metadata": {
  "kernelspec": {
   "display_name": "Python 3",
   "language": "python",
   "name": "python3"
  },
  "language_info": {
   "codemirror_mode": {
    "name": "ipython",
    "version": 3
   },
   "file_extension": ".py",
   "mimetype": "text/x-python",
   "name": "python",
   "nbconvert_exporter": "python",
   "pygments_lexer": "ipython3",
   "version": "3.6.5"
  }
 },
 "nbformat": 4,
 "nbformat_minor": 2
}
