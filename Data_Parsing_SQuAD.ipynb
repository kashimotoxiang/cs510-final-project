{
 "cells": [
  {
   "cell_type": "code",
   "execution_count": 1,
   "metadata": {},
   "outputs": [],
   "source": [
    "import re\n",
    "import mysql.connector\n",
    "import numpy as np"
   ]
  },
  {
   "cell_type": "code",
   "execution_count": 2,
   "metadata": {},
   "outputs": [],
   "source": [
    "mydb = mysql.connector.connect(\n",
    "    host='127.0.0.1', \n",
    "    user='Yuxin Xiao', \n",
    "    password='19961002XYX',\n",
    "    database='CS510Project')\n",
    "mycursor = mydb.cursor()"
   ]
  },
  {
   "cell_type": "code",
   "execution_count": 118,
   "metadata": {},
   "outputs": [],
   "source": [
    "mycursor.execute(\"CREATE TABLE NEW_Sentences (Sentence_id INT, Sentence TEXT)\")\n",
    "mycursor.execute(\"CREATE TABLE NEW_Words (Word TEXT, Count INT, Inverted_index LONGTEXT, Q_inverted_index LONGTEXT)\")"
   ]
  },
  {
   "cell_type": "code",
   "execution_count": 117,
   "metadata": {},
   "outputs": [],
   "source": [
    "mycursor.execute(\"DROP TABLE NEW_Sentences\")\n",
    "mycursor.execute(\"DROP TABLE NEW_Words\")"
   ]
  },
  {
   "cell_type": "code",
   "execution_count": 87,
   "metadata": {},
   "outputs": [],
   "source": [
    "def insert_sentences(Id, Sentence):\n",
    "    sql = ('INSERT INTO NEW_Sentences '\n",
    "           '(Sentence_id, Sentence) '\n",
    "           'VALUES (%s, %s)')\n",
    "    val = (Id, Sentence)\n",
    "    mycursor.execute(sql, val)"
   ]
  },
  {
   "cell_type": "code",
   "execution_count": 88,
   "metadata": {},
   "outputs": [
    {
     "name": "stdout",
     "output_type": "stream",
     "text": [
      "0\n",
      "5000\n",
      "10000\n",
      "15000\n",
      "20000\n",
      "25000\n",
      "30000\n",
      "35000\n",
      "40000\n",
      "45000\n",
      "50000\n",
      "55000\n"
     ]
    }
   ],
   "source": [
    "with open(\"sentences-remove-zeros.txt\", \"r\", encoding='utf-8', errors='ignore') as file:\n",
    "    sentences = file.read().split('\\n')\n",
    "    for Id, Sentence in enumerate(sentences):\n",
    "        insert_sentences(Id, Sentence)\n",
    "        \n",
    "        if Id % 5000 == 0:\n",
    "            print(Id)"
   ]
  },
  {
   "cell_type": "code",
   "execution_count": 89,
   "metadata": {},
   "outputs": [],
   "source": [
    "mycursor.execute(\"SELECT * FROM NEW_Sentences\")\n",
    "myresult = mycursor.fetchall()"
   ]
  },
  {
   "cell_type": "code",
   "execution_count": 90,
   "metadata": {},
   "outputs": [
    {
     "name": "stdout",
     "output_type": "stream",
     "text": [
      "Creating Dictionary\n",
      "58148\n",
      "5000\n",
      "10000\n",
      "15000\n",
      "20000\n",
      "25000\n",
      "30000\n",
      "35000\n",
      "40000\n",
      "45000\n",
      "50000\n",
      "55000\n"
     ]
    }
   ],
   "source": [
    "print(\"Creating Dictionary\")\n",
    "print(len(myresult))\n",
    "   \n",
    "count_dict = {}\n",
    "index_dict = {}\n",
    "\n",
    "num = 0\n",
    "for row in myresult:\n",
    "    \n",
    "    num += 1\n",
    "    if num % 5000 == 0:\n",
    "        print(num)\n",
    "    \n",
    "    index = str(row[0])\n",
    "    sentence = re.sub(r'[^\\w\\s]', \"\", row[1]).split()\n",
    "        \n",
    "    for word in sentence:\n",
    "        word = word.lower()\n",
    "        \n",
    "        if word in count_dict:\n",
    "            count_dict[word] += 1\n",
    "            index_dict[word] += (' ' + index)\n",
    "        else:\n",
    "            count_dict[word] = 1\n",
    "            index_dict[word] = index"
   ]
  },
  {
   "cell_type": "code",
   "execution_count": 116,
   "metadata": {},
   "outputs": [
    {
     "name": "stdout",
     "output_type": "stream",
     "text": [
      "Re-Creating Dictionary\n",
      "58148\n",
      "5000\n",
      "10000\n",
      "15000\n",
      "20000\n",
      "25000\n",
      "30000\n",
      "35000\n",
      "40000\n",
      "45000\n",
      "50000\n",
      "55000\n"
     ]
    }
   ],
   "source": [
    "with open(\"sentences-remove-zeros-tab-split.txt\", \"r\", encoding='utf-8', errors='ignore') as file:\n",
    "    myresult = file.read().split('\\n')\n",
    "\n",
    "print(\"Re-Creating Dictionary\")\n",
    "print(len(myresult))\n",
    "   \n",
    "count_dict = {}\n",
    "index_dict = {}\n",
    "\n",
    "num = 0\n",
    "for index, sentence in enumerate(myresult):\n",
    "    \n",
    "    num += 1\n",
    "    if num % 5000 == 0:\n",
    "        print(num)\n",
    "    \n",
    "    sentence = re.sub(r'[^\\w\\s]', \"\", sentence).split('\\t')\n",
    "    sentence = list(filter(None, sentence))\n",
    "        \n",
    "    for word in sentence:\n",
    "        word = word.lower()\n",
    "        \n",
    "        if word in count_dict:\n",
    "            count_dict[word] += 1\n",
    "            index_dict[word] += (' ' + str(index))\n",
    "        else:\n",
    "            count_dict[word] = 1\n",
    "            index_dict[word] = str(index)"
   ]
  },
  {
   "cell_type": "code",
   "execution_count": 119,
   "metadata": {},
   "outputs": [
    {
     "name": "stdout",
     "output_type": "stream",
     "text": [
      "0\n",
      "5000\n",
      "10000\n",
      "15000\n",
      "20000\n",
      "25000\n",
      "30000\n",
      "35000\n",
      "40000\n",
      "45000\n",
      "50000\n",
      "55000\n"
     ]
    }
   ],
   "source": [
    "q_index_dict = {}\n",
    "\n",
    "with open(\"questionables-remove-zeros.txt\", \"r\", encoding='utf-8', errors='ignore') as file:\n",
    "    sentences = file.read().split('\\n')\n",
    "    for index, sentence in enumerate(sentences):\n",
    "        if index % 5000 == 0:\n",
    "            print(index)\n",
    "        words = re.sub(r'[^\\w\\s]', \"\", sentence).split('\\t')\n",
    "        words = list(filter(None, words))\n",
    "        for word in words:\n",
    "            word = word.lower()\n",
    "            if word in q_index_dict:\n",
    "                q_index_dict[word] += (' ' + str(index))\n",
    "            else:\n",
    "                q_index_dict[word] = str(index)"
   ]
  },
  {
   "cell_type": "code",
   "execution_count": 120,
   "metadata": {},
   "outputs": [
    {
     "name": "stdout",
     "output_type": "stream",
     "text": [
      "Writing into Database\n",
      "70033\n",
      "39351\n",
      "5000\n",
      "10000\n",
      "15000\n",
      "20000\n",
      "25000\n",
      "30000\n",
      "35000\n",
      "40000\n",
      "45000\n",
      "50000\n",
      "55000\n",
      "60000\n",
      "65000\n",
      "70000\n"
     ]
    }
   ],
   "source": [
    "print(\"Writing into Database\")\n",
    "print(len(count_dict.keys()))\n",
    "print(len(q_index_dict.keys()))\n",
    "\n",
    "num = 0\n",
    "for word in count_dict.keys():\n",
    "    \n",
    "    num += 1\n",
    "    if num % 5000 == 0:\n",
    "        print(num)\n",
    "    \n",
    "    count = count_dict[word]\n",
    "    index = index_dict[word]\n",
    "    \n",
    "    if word in q_index_dict:\n",
    "        q_index = q_index_dict[word]\n",
    "    else:\n",
    "        q_index = \"\"\n",
    "\n",
    "    insert_sql = \"INSERT INTO NEW_Words (Word, Count, Inverted_index, Q_inverted_index) VALUES (%s, %s, %s, %s)\"\n",
    "    insert_val = (word, count, index, q_index)\n",
    "    mycursor.execute(insert_sql, insert_val)"
   ]
  },
  {
   "cell_type": "code",
   "execution_count": 121,
   "metadata": {},
   "outputs": [],
   "source": [
    "select_sql = \"SELECT * FROM NEW_Words WHERE Word = %s\"\n",
    "select_val = (\"mother\",)\n",
    "mycursor.execute(select_sql, select_val)\n",
    "myresult = mycursor.fetchall()"
   ]
  },
  {
   "cell_type": "code",
   "execution_count": 122,
   "metadata": {},
   "outputs": [
    {
     "data": {
      "text/plain": [
       "1"
      ]
     },
     "execution_count": 122,
     "metadata": {},
     "output_type": "execute_result"
    }
   ],
   "source": [
    "len(myresult)"
   ]
  },
  {
   "cell_type": "code",
   "execution_count": 123,
   "metadata": {},
   "outputs": [
    {
     "data": {
      "text/plain": [
       "('mother',\n",
       " 202,\n",
       " '14 17 40 50 88 95 205 253 255 260 275 303 305 364 379 381 487 1199 1755 1777 1777 1779 1821 2066 2068 2069 2072 2120 2196 2203 2206 2248 2258 2259 2959 5590 5603 5605 5606 5607 5636 6248 7044 7170 7379 8629 8878 9515 9524 9978 10038 12247 12251 12253 12373 12376 13068 15904 16717 16727 16741 16742 16742 16743 16746 16755 16755 16766 16774 16778 16778 16781 16786 16789 16794 16807 16808 17025 17208 19085 19095 19115 19123 19180 19180 19183 19368 20178 20614 20661 20669 20688 21224 21225 21226 21233 21234 21234 21234 21253 21307 21308 21337 21341 21355 21355 21356 21357 21379 21384 21393 21873 21877 22603 23217 24072 24105 24246 25802 25837 26776 26778 26781 26782 26783 26987 26988 26989 26989 26990 27343 27404 27431 29027 29127 29188 30472 30494 32621 33321 33335 35817 37108 37419 37446 37825 37959 38670 39916 39917 40527 40571 40594 40605 42591 42598 42950 43185 43291 43423 44032 44521 44524 44526 44635 44957 45089 45225 46610 46643 46754 47944 48061 50902 50903 51351 51411 51413 51417 51473 52088 52099 52110 52117 52117 52126 52136 53253 53337 53475 54057 54116 54195 54251 54670 55133 55343 55344 56947 57423 58061 58061',\n",
       " '14 40 95 205 253 275 2196 7379 8629 9978 12251 13068 15904 16717 16746 16755 16794 16807 16808 19183 20661 21224 21226 21234 21341 21355 21384 23217 25837 42591 44635 52088 52099 52117 52126 52136 54116 58061')"
      ]
     },
     "execution_count": 123,
     "metadata": {},
     "output_type": "execute_result"
    }
   ],
   "source": [
    "myresult[0]"
   ]
  },
  {
   "cell_type": "code",
   "execution_count": 124,
   "metadata": {},
   "outputs": [],
   "source": [
    "mydb.commit()"
   ]
  },
  {
   "cell_type": "code",
   "execution_count": 125,
   "metadata": {},
   "outputs": [],
   "source": [
    "mycursor.close()\n",
    "mydb.close()"
   ]
  }
 ],
 "metadata": {
  "kernelspec": {
   "display_name": "Python 3",
   "language": "python",
   "name": "python3"
  },
  "language_info": {
   "codemirror_mode": {
    "name": "ipython",
    "version": 3
   },
   "file_extension": ".py",
   "mimetype": "text/x-python",
   "name": "python",
   "nbconvert_exporter": "python",
   "pygments_lexer": "ipython3",
   "version": "3.6.5"
  }
 },
 "nbformat": 4,
 "nbformat_minor": 2
}
